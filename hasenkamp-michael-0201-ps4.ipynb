{
 "cells": [
  {
   "cell_type": "code",
   "execution_count": 6,
   "metadata": {},
   "outputs": [
    {
     "name": "stdout",
     "output_type": "stream",
     "text": [
      "Given array is\n",
      "65 9 24 27 81 54 69 25 16 52 97 48 70 56 47 55 28 2 23 90 70 98 75 51 77 70 44 49 23 32 35 33 20 6 18 3 57 81 22 33 13 72 82 63 84 83 61 40 79 80 25 1 10 18 74 87 52 45 11 16 99 98 40 27 3 24 46 1 8 58 42 33 40 7 65 47 54 70 57 30 91 59 57 76 95 76 98 80 9 12 10 94 49 91 41 56 96 89 91 58 \n",
      "Sorted array is: \n",
      "1 1 2 3 3 6 7 8 9 9 10 10 11 12 13 16 16 18 18 20 22 23 23 24 24 25 25 27 27 28 30 32 33 33 33 35 40 40 40 41 42 44 45 46 47 47 48 49 49 51 52 52 54 54 55 56 56 57 57 57 58 58 59 61 63 65 65 69 70 70 70 70 72 74 75 76 76 77 79 80 80 81 81 82 83 84 87 89 90 91 91 91 94 95 96 97 98 98 98 99 \n",
      "2259\n"
     ]
    }
   ],
   "source": [
    "import random #This allows us to use the random function to fill our array\n",
    "#Using a global verable knowing thats wrong normally \n",
    "count = 0 #This is a global varable and would not normally be used rather count would be passsed in however a CA said to just do this as it would be easier\n",
    "# impliment Mergsort This could was found of geeksforgeeks (https://www.geeksforgeeks.org/merge-sort/) at this address. CA's said we did not have to re invent the wheel just to comment and modify it so it worked to count the number of reverses.\n",
    "def mergeSort(arr): \n",
    "    if len(arr) >1: #This is need because if the array was empty we wouldnt need to do anything\n",
    "        mid = len(arr)//2 # this finds the middle point of the array so we can use it to devide up the array\n",
    "        L = arr[:mid] # this allows us to know our left hand side of the array\n",
    "        R = arr[mid:] # and our right hand side of the array\n",
    "  \n",
    "        mergeSort(L) # this takes the left split of the array are sorts the first half of the array \n",
    "        mergeSort(R) # this takes the right spril of the array and sorts the second half of the array \n",
    "  \n",
    "        i = j = k = 0 # this sets all needed varrables to zero after declaring them\n",
    "        global count # This allows us to use our global variable. This was addded to the template of mergsort\n",
    "          \n",
    "         \n",
    "        while i < len(L) and j < len(R): #This while loop copys the elments into the temp arrays L[] and R[] \n",
    "            if L[i] < R[j]: # this checks to see if a Swap is need  \n",
    "                arr[k] = L[i] #K is the index of the new temp array\n",
    "                i+=1\n",
    "            else: #If the right is larger put right element in front and increment count to the number of elements left in the left array \n",
    "                arr[k] = R[j] \n",
    "                j+=1\n",
    "                count = count+len(L)-i #its for everything that is left in the left array thus minus i.\n",
    "            k+=1\n",
    "          \n",
    "        # check to see if any elements remain in L[] or R[] if they do fill arr with remaining values\n",
    "        while i < len(L): \n",
    "            arr[k] = L[i] \n",
    "            i+=1\n",
    "            k+=1\n",
    "          \n",
    "        while j < len(R): \n",
    "            arr[k] = R[j] \n",
    "            j+=1\n",
    "            k+=1\n",
    "  \n",
    "# Code to print the list \n",
    "def printList(arr): \n",
    "    for i in range(len(arr)):         \n",
    "        print(arr[i],end=\" \") \n",
    "    print() \n",
    "  \n",
    "# driver code to test the above code \n",
    "if __name__ == '__main__':\n",
    "    arr =[]\n",
    "    for i in range(0,100): \n",
    "        arr.append(random.randint(1,100))  \n",
    "    print (\"Given array is\", end=\"\\n\")  \n",
    "    printList(arr) \n",
    "    mergeSort(arr) \n",
    "    print(\"Sorted array is: \", end=\"\\n\") \n",
    "    printList(arr) \n",
    "    print(count) # This just allows us to see what our count is"
   ]
  },
  {
   "cell_type": "code",
   "execution_count": null,
   "metadata": {},
   "outputs": [],
   "source": []
  },
  {
   "cell_type": "code",
   "execution_count": null,
   "metadata": {},
   "outputs": [],
   "source": []
  },
  {
   "cell_type": "code",
   "execution_count": null,
   "metadata": {},
   "outputs": [],
   "source": []
  }
 ],
 "metadata": {
  "kernelspec": {
   "display_name": "Python 3",
   "language": "python",
   "name": "python3"
  },
  "language_info": {
   "codemirror_mode": {
    "name": "ipython",
    "version": 3
   },
   "file_extension": ".py",
   "mimetype": "text/x-python",
   "name": "python",
   "nbconvert_exporter": "python",
   "pygments_lexer": "ipython3",
   "version": "3.7.3"
  }
 },
 "nbformat": 4,
 "nbformat_minor": 4
}
