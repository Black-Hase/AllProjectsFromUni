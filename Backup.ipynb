{
 "cells": [
  {
   "cell_type": "code",
   "execution_count": null,
   "metadata": {},
   "outputs": [],
   "source": [
    "import random #This allows us to use the random function to fill our array\n",
    "#Using a global verable knowing thats wrong normally \n",
    "count = 0 #This is a global varable and would not normally be used rather count would be passsed in however a CA said to just do this as it would be easier\n",
    "# impliment Mergsort This could was found of geeksforgeeks at this address. CA's said we did not have to re invent the wheel just to comment and modify it so it worked to count the number of reverses.\n",
    "def mergeSort(arr): \n",
    "    if len(arr) >1: \n",
    "        mid = len(arr)//2 #Finding the mid of the array \n",
    "        L = arr[:mid] # Dividing the array elements  \n",
    "        R = arr[mid:] # into 2 halves \n",
    "  \n",
    "        mergeSort(L) # Sorting the first half \n",
    "        mergeSort(R) # Sorting the second half \n",
    "  \n",
    "        i = j = k = 0\n",
    "        global count # This allows us to use our global variable. This was addded to the template of mergsort\n",
    "          \n",
    "        # Copy data to temp arrays L[] and R[] \n",
    "        while i < len(L) and j < len(R): \n",
    "            if L[i] < R[j]: \n",
    "                arr[k] = L[i] \n",
    "                i+=1\n",
    "            else: \n",
    "                arr[k] = R[j] \n",
    "                j+=1\n",
    "                count = count+len(L)-i #its for everything that is left in the left array thus minus i.\n",
    "            k+=1\n",
    "          \n",
    "        # Checking if any element was left \n",
    "        while i < len(L): \n",
    "            arr[k] = L[i] \n",
    "            i+=1\n",
    "            k+=1\n",
    "          \n",
    "        while j < len(R): \n",
    "            arr[k] = R[j] \n",
    "            j+=1\n",
    "            k+=1\n",
    "  \n",
    "# Code to print the list \n",
    "def printList(arr): \n",
    "    for i in range(len(arr)):         \n",
    "        print(arr[i],end=\" \") \n",
    "    print() \n",
    "  \n",
    "# driver code to test the above code \n",
    "if __name__ == '__main__': \n",
    "    for i in range(0,100): \n",
    "        arr.append(random.randint(1,100))  \n",
    "    print (\"Given array is\", end=\"\\n\")  \n",
    "    printList(arr) \n",
    "    mergeSort(arr) \n",
    "    print(\"Sorted array is: \", end=\"\\n\") \n",
    "    printList(arr) \n",
    "    print(count) # This just allows us to see what our count is\n",
    "# This code is contributed by Mayank Khanna "
   ]
  }
 ],
 "metadata": {
  "kernelspec": {
   "display_name": "Python 3",
   "language": "python",
   "name": "python3"
  },
  "language_info": {
   "codemirror_mode": {
    "name": "ipython",
    "version": 3
   },
   "file_extension": ".py",
   "mimetype": "text/x-python",
   "name": "python",
   "nbconvert_exporter": "python",
   "pygments_lexer": "ipython3",
   "version": "3.7.3"
  }
 },
 "nbformat": 4,
 "nbformat_minor": 4
}
