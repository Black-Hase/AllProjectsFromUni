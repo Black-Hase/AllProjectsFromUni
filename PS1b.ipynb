{
 "cells": [
  {
   "cell_type": "code",
   "execution_count": 6,
   "metadata": {},
   "outputs": [
    {
     "name": "stdout",
     "output_type": "stream",
     "text": [
      "1 ( 0 , 0 )\n",
      "2 ( 1 , 0 )\n",
      "4 ( 2 , 1 )\n",
      "8 ( 3 , 9 )\n",
      "16 ( 4 , 43 )\n",
      "32 ( 5 , 301 )\n",
      "64 ( 6 , 1075 )\n",
      "128 ( 7 , 4652 )\n",
      "256 ( 8 , 16047 )\n",
      "512 ( 9 , 66643 )\n",
      "1024 ( 10 , 258075 )\n",
      "2048 ( 11 , 1021630 )\n",
      "4096 ( 12 , 4113787 )\n"
     ]
    }
   ],
   "source": [
    "import random\n",
    "\n",
    "def Flips(n):\n",
    "    Array = list(range(1,n+1))\n",
    "    random.shuffle(Array)\n",
    "    Flipcount=0\n",
    "    for i in range (0,n):\n",
    "        for j in range (i+1,n):\n",
    "            if(Array[i]>Array[j]):\n",
    "                Flipcount+=1\n",
    "    return Flipcount\n",
    "for i in range (13):\n",
    "    print ( 2**i ,\"(\" ,i , \",\", Flips(2**i), \")\" )\n"
   ]
  }
 ],
 "metadata": {
  "kernelspec": {
   "display_name": "Python 3 (ipykernel)",
   "language": "python",
   "name": "python3"
  },
  "language_info": {
   "codemirror_mode": {
    "name": "ipython",
    "version": 3
   },
   "file_extension": ".py",
   "mimetype": "text/x-python",
   "name": "python",
   "nbconvert_exporter": "python",
   "pygments_lexer": "ipython3",
   "version": "3.9.6"
  }
 },
 "nbformat": 4,
 "nbformat_minor": 4
}
