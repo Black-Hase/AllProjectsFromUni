{
 "cells": [
  {
   "cell_type": "code",
   "execution_count": 1,
   "metadata": {},
   "outputs": [],
   "source": [
    "# RK-4 method python program\n",
    "\n",
    "# function to be solved\n",
    "def f(x,y):\n",
    "    return (x*y+y)/(xy+x)\n",
    "\n"
   ]
  },
  {
   "cell_type": "code",
   "execution_count": null,
   "metadata": {},
   "outputs": [],
   "source": [
    "# or\n",
    "# f = lambda x: x+y\n",
    "\n",
    "# RK-4 method\n",
    "def rk4(x0,y0,xn,n,h):\n",
    "    \n",
    "    # Calculating step size\n",
    "\n",
    "    \n",
    "    print('\\n--------SOLUTION--------')\n",
    "    print('-------------------------')    \n",
    "    print('x0\\ty0\\tyn')\n",
    "    print('-------------------------')\n",
    "    for i in range(n):\n",
    "        k1 = h * (f(x0, y0))\n",
    "        k2 = h * (f((x0+h/2), (y0+k1/2)))\n",
    "        k3 = h * (f((x0+h/2), (y0+k2/2)))\n",
    "        k4 = h * (f((x0+h), (y0+k3)))\n",
    "        k = (k1+2*k2+2*k3+k4)/6\n",
    "        yn = y0 + k\n",
    "        print('%.4f\\t%.4f\\t%.4f'% (x0,y0,yn) )\n",
    "        print('-------------------------')\n",
    "        y0 = yn\n",
    "        x0 = x0+h\n",
    "    \n",
    "    print('\\nAt x=%.4f, y=%.4f' %(xn,yn))\n",
    "\n",
    "# Inputs\n",
    "step =4\n",
    "\n",
    "    plt.plot(x,y,'-')\n",
    "    plt.xlabel(\"Value of x\")\n",
    "    plt.ylabel(\"Value of y\")\n",
    "    plt.title(\"Approximate Solution with forward euler's Method\")\n",
    "    plt.show()\n"
   ]
  },
  {
   "cell_type": "code",
   "execution_count": null,
   "metadata": {},
   "outputs": [],
   "source": [
    "h=0.01\n",
    "x0 = 2\n",
    "y0 = 4\n",
    "xn = 2\n",
    "rk4(x0,y0,xn,n,h)"
   ]
  },
  {
   "cell_type": "code",
   "execution_count": null,
   "metadata": {},
   "outputs": [],
   "source": []
  }
 ],
 "metadata": {
  "kernelspec": {
   "display_name": "Python 3",
   "language": "python",
   "name": "python3"
  },
  "language_info": {
   "codemirror_mode": {
    "name": "ipython",
    "version": 3
   },
   "file_extension": ".py",
   "mimetype": "text/x-python",
   "name": "python",
   "nbconvert_exporter": "python",
   "pygments_lexer": "ipython3",
   "version": "3.8.6"
  }
 },
 "nbformat": 4,
 "nbformat_minor": 4
}
