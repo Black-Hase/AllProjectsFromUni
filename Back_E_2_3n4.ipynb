{
 "cells": [
  {
   "cell_type": "code",
   "execution_count": 2,
   "metadata": {},
   "outputs": [
    {
     "name": "stdout",
     "output_type": "stream",
     "text": [
      "Newtons-R Method A\n",
      "x_1:  1\n",
      "x0:  -4.123112513743803\n",
      "x_2:  4\n",
      "x1:  4.123103060807232\n"
     ]
    }
   ],
   "source": [
    "from scipy import misc\n",
    "\n",
    "def NewtonsMethod(f, x, tolerance=0.00001):\n",
    "    while True:\n",
    "        x1 = x - f(x) / misc.derivative(f, x) \n",
    "        t = abs(x1 - x)\n",
    "        if t < tolerance:\n",
    "            break\n",
    "        x = x1\n",
    "    return x\n",
    "\n",
    "def f(t,y):\n",
    "    return FUNCTION HERE\n"
   ]
  },
  {
   "cell_type": "code",
   "execution_count": null,
   "metadata": {},
   "outputs": [],
   "source": [
    "''''function [y,t] = BEuler(f,fprime,t0, T, y0, N)\n",
    "% Backward Euler\n",
    "% N - # of steps \n",
    "% T = b, t0 = a\n",
    "h = (T - t0)/(N);\n",
    "\n",
    "%y(i+1) = y(i) + h*f(y(i+1),t(i+1))\n",
    "% Use NR to set 0 = y(i) + h*f(y(i+1)) - y(i+1)\n",
    "t=[];\n",
    "y=[];\n",
    "t(1) =  t0;\n",
    "y(1) = y0;\n",
    "for i = 1: N \n",
    "    t(i+1) =  t(i) + h; \n",
    "    x = y(i);\n",
    "    for j = 1:20\n",
    "    x =  x- (x- f(t,x)*h)/(1-fprime(t,x)*h); \n",
    "    end\n",
    "    y(i+1) = x; \n",
    "end\n",
    "\n",
    "end\n",
    "'''\n",
    "#backward Euler y_n+1=y_y+Deltat*f(t_n+1,y_n+1)\n",
    "def BackE(h):\n",
    "    # backward Euler\n",
    "    # n=number of steps\n",
    "    # tf=b and t0=a\n",
    "    t0 = 0\n",
    "    y0 = 1\n",
    "    tf = 3.4\n",
    "    \n",
    "    n = int((tf-t0)/h)\n",
    "    t=np.linspace(t0,tf,n)\n",
    "    y=np.zeros([n])\n",
    "    y[0]=y0\n",
    "    for i in range (0,n-1):\n",
    "        y[i+1]=y[i]+NewtonsMethod()*h\n",
    "        \n",
    "    \n",
    "    plt.plot(t,y,'-')\n",
    "    plt.xlabel(\"Value of t\")\n",
    "    plt.ylabel(\"Value of Theta\")\n",
    "    plt.title(\"Approximate Solution with forward euler's Method\")\n",
    "    plt.show()\n",
    "  "
   ]
  }
 ],
 "metadata": {
  "kernelspec": {
   "display_name": "Python 3",
   "language": "python",
   "name": "python3"
  },
  "language_info": {
   "codemirror_mode": {
    "name": "ipython",
    "version": 3
   },
   "file_extension": ".py",
   "mimetype": "text/x-python",
   "name": "python",
   "nbconvert_exporter": "python",
   "pygments_lexer": "ipython3",
   "version": "3.8.6"
  }
 },
 "nbformat": 4,
 "nbformat_minor": 4
}
