{
 "cells": [
  {
   "cell_type": "code",
   "execution_count": 3,
   "metadata": {},
   "outputs": [],
   "source": [
    "import numpy as np\n",
    "from matplotlib import pyplot as plt\n",
    "#===============================\n",
    "def def_fn(x, y):\n",
    "    return ((x*y + y)/(x*y+x))\n"
   ]
  },
  {
   "cell_type": "code",
   "execution_count": 4,
   "metadata": {},
   "outputs": [],
   "source": [
    "\n",
    "def Midpoint_meth(def_fn, x0, y0, n, ya, h):\n",
    "    x0 = 2\n",
    "    y0 = 4\n",
    "    xf = 4\n",
    "    n = int((y0-x0)/h+1)\n",
    "    f = def_fn #input definining function\n",
    "\n",
    "    h = (b-a)/N # developing step size h, from input values divided by N\n",
    "\n",
    "    t = np.arange(a, b+h, h) #array intialized to hold mesh points t\n",
    "    y = np.zeros((N+1,))      #array to hold Midpoint Method approximated y values\n",
    "\n",
    "    y[0] = ya   #intial condition \n",
    "\n",
    "    #iterative method\n",
    "    for  i in range(0, N):\n",
    "\n",
    "        tau = t[i]      #current mesh point t \n",
    "        w = y[i]        #current value y(t)\n",
    "\n",
    "        k1 = f(tau,w)\n",
    "        h1 = h/2.0\n",
    "\n",
    "        # next iteration using midpoint method \n",
    "        y[i + 1] = y[i] + h * f(tau + h1, w + (h1*k1) )\n",
    "    plt.plot(x,y,'-')\n",
    "    plt.xlabel(\"Value of x\")\n",
    "    plt.ylabel(\"Value of y\")\n",
    "    plt.title(\"Approximate Solution with Mid Point Method\")\n",
    "    plt.show()\n",
    "\n",
    "        return (t, y)"
   ]
  },
  {
   "cell_type": "code",
   "execution_count": null,
   "metadata": {},
   "outputs": [],
   "source": [
    "h=0.001\n",
    "Midpoint_meth(def_fn, x0, y0, n, ya):"
   ]
  }
 ],
 "metadata": {
  "kernelspec": {
   "display_name": "Python 3",
   "language": "python",
   "name": "python3"
  },
  "language_info": {
   "codemirror_mode": {
    "name": "ipython",
    "version": 3
   },
   "file_extension": ".py",
   "mimetype": "text/x-python",
   "name": "python",
   "nbconvert_exporter": "python",
   "pygments_lexer": "ipython3",
   "version": "3.8.6"
  }
 },
 "nbformat": 4,
 "nbformat_minor": 4
}
