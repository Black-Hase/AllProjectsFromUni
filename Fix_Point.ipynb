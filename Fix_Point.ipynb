{
 "cells": [
  {
   "cell_type": "code",
   "execution_count": null,
   "metadata": {},
   "outputs": [],
   "source": [
    "# Fixed Point Iteration Method\n",
    "# Importing math to use sqrt function\n",
    "import math\n",
    "import fraction \n",
    "\"\"\"\n",
    "def f(x):\n",
    "    return \n",
    "\"\"\"\n",
    "# Re-writing f(x)=0 to x = g(x)\n",
    "def g(x):\n",
    "    return math.pi + .5*(math.sin(Fraction(x,2)))\n",
    "\n",
    "# Implementing Fixed Point Iteration Method\n",
    "def fixedPointIteration(x0, e, N):\n",
    "    print('\\n\\n*** FIXED POINT ITERATION ***')\n",
    "    step = 1\n",
    "    flag = 1\n",
    "    condition = True\n",
    "    while condition:\n",
    "        x1 = g(x0)\n",
    "        print('Iteration-%d, x1 = %0.6f and f(x1) = %0.6f' % (step, x1, f(x1)))\n",
    "        x0 = x1\n",
    "\n",
    "        step = step + 1\n",
    "        \n",
    "        if step > N:\n",
    "            flag=0\n",
    "            break\n",
    "        \n",
    "        condition = abs(f(x1)) > e\n",
    "\n",
    "    if flag==1:\n",
    "        print('\\nRequired root is: %0.8f' % x1)\n",
    "    else:\n",
    "        print('\\nNot Convergent.')\n",
    "\n",
    "# Input Section\n",
    "x0 = input('Enter Guess: ')\n",
    "e = input('Tolerable Error: ')\n",
    "N = input('Maximum Step: ')\n",
    "\n",
    "# Converting x0 and e to float\n",
    "x0 = float(x0)\n",
    "e = float(e)\n",
    "\n",
    "# Converting N to integer\n",
    "N = int(N)\n",
    "\n",
    "\n",
    "#Note: You can combine above three section like this\n",
    "# x0 = float(input('Enter Guess: '))\n",
    "# e = float(input('Tolerable Error: '))\n",
    "# N = int(input('Maximum Step: '))\n",
    "\n",
    "# Starting Newton Raphson Method\n",
    "fixedPointIteration(x0,e,N)"
   ]
  }
 ],
 "metadata": {
  "kernelspec": {
   "display_name": "Python 3",
   "language": "python",
   "name": "python3"
  },
  "language_info": {
   "codemirror_mode": {
    "name": "ipython",
    "version": 3
   },
   "file_extension": ".py",
   "mimetype": "text/x-python",
   "name": "python",
   "nbconvert_exporter": "python",
   "pygments_lexer": "ipython3",
   "version": "3.8.6"
  }
 },
 "nbformat": 4,
 "nbformat_minor": 4
}
