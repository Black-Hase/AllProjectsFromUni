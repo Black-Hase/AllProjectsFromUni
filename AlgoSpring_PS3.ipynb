{
 "cells": [
  {
   "cell_type": "code",
   "execution_count": 8,
   "metadata": {},
   "outputs": [
    {
     "ename": "NameError",
     "evalue": "name 'arr' is not defined",
     "output_type": "error",
     "traceback": [
      "\u001b[0;31m---------------------------------------------------------------------------\u001b[0m",
      "\u001b[0;31mNameError\u001b[0m                                 Traceback (most recent call last)",
      "\u001b[0;32m<ipython-input-8-5c54d335fae9>\u001b[0m in \u001b[0;36m<module>\u001b[0;34m()\u001b[0m\n\u001b[1;32m     45\u001b[0m \u001b[0;32mif\u001b[0m \u001b[0m__name__\u001b[0m \u001b[0;34m==\u001b[0m \u001b[0;34m'__main__'\u001b[0m\u001b[0;34m:\u001b[0m\u001b[0;34m\u001b[0m\u001b[0;34m\u001b[0m\u001b[0m\n\u001b[1;32m     46\u001b[0m     \u001b[0;32mfor\u001b[0m \u001b[0mi\u001b[0m \u001b[0;32min\u001b[0m \u001b[0mrange\u001b[0m\u001b[0;34m(\u001b[0m\u001b[0;36m0\u001b[0m\u001b[0;34m,\u001b[0m\u001b[0;36m100\u001b[0m\u001b[0;34m)\u001b[0m\u001b[0;34m:\u001b[0m\u001b[0;34m\u001b[0m\u001b[0;34m\u001b[0m\u001b[0m\n\u001b[0;32m---> 47\u001b[0;31m         \u001b[0marr\u001b[0m\u001b[0;34m.\u001b[0m\u001b[0mappend\u001b[0m\u001b[0;34m(\u001b[0m\u001b[0mrandom\u001b[0m\u001b[0;34m.\u001b[0m\u001b[0mrandint\u001b[0m\u001b[0;34m(\u001b[0m\u001b[0;36m1\u001b[0m\u001b[0;34m,\u001b[0m\u001b[0;36m100\u001b[0m\u001b[0;34m)\u001b[0m\u001b[0;34m)\u001b[0m\u001b[0;34m\u001b[0m\u001b[0;34m\u001b[0m\u001b[0m\n\u001b[0m\u001b[1;32m     48\u001b[0m     \u001b[0mprint\u001b[0m \u001b[0;34m(\u001b[0m\u001b[0;34m\"Given array is\"\u001b[0m\u001b[0;34m,\u001b[0m \u001b[0mend\u001b[0m\u001b[0;34m=\u001b[0m\u001b[0;34m\"\\n\"\u001b[0m\u001b[0;34m)\u001b[0m\u001b[0;34m\u001b[0m\u001b[0;34m\u001b[0m\u001b[0m\n\u001b[1;32m     49\u001b[0m     \u001b[0mprintList\u001b[0m\u001b[0;34m(\u001b[0m\u001b[0marr\u001b[0m\u001b[0;34m)\u001b[0m\u001b[0;34m\u001b[0m\u001b[0;34m\u001b[0m\u001b[0m\n",
      "\u001b[0;31mNameError\u001b[0m: name 'arr' is not defined"
     ]
    }
   ],
   "source": [
    "import random #This allows us to use the random function to fill our array\n",
    "#Using a global verable knowing thats wrong normally \n",
    "count = 0 #This is a global varable and would not normally be used rather count would be passsed in however a CA said to just do this as it would be easier\n",
    "# impliment Mergsort This could was found of geeksforgeeks at this address. CA's said we did not have to re invent the wheel just to comment and modify it so it worked to count the number of reverses. \n",
    "def mergeSort(arr): # define merSort\n",
    "    if len(arr) >1: #This is need because if the array was empty we wouldnt need to do anything\n",
    "        mid = len(arr)//2 # this finds the middle point of the array so we can use it to devide up the array\n",
    "        L = arr[:mid] # this allows us to know our left hand side of the array   \n",
    "        R = arr[mid:] # and our right hand side of the array\n",
    "  \n",
    "        mergeSort(L) # this takes the left split of the array are sorts the first half of the array \n",
    "        mergeSort(R) # this takes the right spril of the array and sorts the second half of the array \n",
    "  \n",
    "        i = j = k = 0 # this sets all needed varrables to zero after declaring them\n",
    "        global count # This allows us to use our global variable. This was addded to the template of mergsort\n",
    "        \n",
    "        while i < len(L) and j < len(R): #This while loop copys the elments into the temp arrays L[] and R[] \n",
    "            if L[i] < R[j]: # this checks to see if a Swap is need  \n",
    "                arr[k] = L[i] #K is the index of the new temp array\n",
    "                i+=1\n",
    "            else: #If the right is larger put right element in front and increment count to the number of elements left in the left array \n",
    "                arr[k] = R[j] \n",
    "                j+=1\n",
    "                count = count+len(L)-i #its for everything that is left in the left array thus minus i.\n",
    "            k+=1\n",
    "          \n",
    "        # check to see if any elements remain in L[] or R[] if they do fill arr with remaining values\n",
    "        while i < len(L): \n",
    "            arr[k] = L[i] \n",
    "            i+=1\n",
    "            k+=1\n",
    "          \n",
    "        while j < len(R): \n",
    "            arr[k] = R[j] \n",
    "            j+=1\n",
    "            k+=1\n",
    "  \n",
    "# Code to print the list \n",
    "def printList(arr): \n",
    "    for i in range(len(arr)):         \n",
    "        print(arr[i],end=\" \") \n",
    "    print() \n",
    "  \n",
    "# driver code to test the above code \n",
    "if __name__ == '__main__':\n",
    "    for i in range(0,100): \n",
    "        arr.append(random.randint(1,100))\n",
    "    print (\"Given array is\", end=\"\\n\")  \n",
    "    printList(arr) \n",
    "    mergeSort(arr) \n",
    "    print(\"Sorted array is: \", end=\"\\n\") \n",
    "    printList(arr) \n",
    "    print(count) # This just allows us to see what our count is\n",
    " "
   ]
  },
  {
   "cell_type": "code",
   "execution_count": null,
   "metadata": {},
   "outputs": [],
   "source": []
  }
 ],
 "metadata": {
  "kernelspec": {
   "display_name": "Python 3",
   "language": "python",
   "name": "python3"
  },
  "language_info": {
   "codemirror_mode": {
    "name": "ipython",
    "version": 3
   },
   "file_extension": ".py",
   "mimetype": "text/x-python",
   "name": "python",
   "nbconvert_exporter": "python",
   "pygments_lexer": "ipython3",
   "version": "3.7.3"
  }
 },
 "nbformat": 4,
 "nbformat_minor": 4
}
