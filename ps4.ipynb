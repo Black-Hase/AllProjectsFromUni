{
 "cells": [
  {
   "cell_type": "code",
   "execution_count": 6,
   "metadata": {},
   "outputs": [
    {
     "name": "stdout",
     "output_type": "stream",
     "text": [
      "Given array is\n",
      "1 2 2 2 3 3 3 3 3 3 3 4 4 4 4 4 4 5 5 5 5 5 5 5 6 6 6 6 6 6 7 7 7 8 8 8 8 8 8 8 8 9 10 10 11 11 11 11 11 12 12 12 12 12 12 12 12 13 13 13 13 13 13 13 13 13 14 14 14 14 14 14 15 15 15 15 16 16 16 16 16 16 16 17 18 18 18 18 18 18 19 19 19 19 19 19 19 19 19 20 20 20 20 21 21 22 22 22 22 22 22 23 23 23 23 23 24 25 26 26 27 27 27 27 27 28 28 28 28 29 29 29 29 29 30 30 30 30 30 30 31 31 31 32 32 32 33 33 34 34 34 35 36 37 37 37 37 37 37 37 38 38 38 38 39 39 39 39 40 40 40 41 41 41 41 41 41 42 42 42 42 42 42 42 43 43 43 43 43 43 43 44 44 44 45 45 45 46 46 46 46 48 48 49 49 49 50 50 50 51 51 52 52 52 53 53 53 54 54 54 54 54 54 55 55 55 56 56 56 56 56 56 56 56 57 57 57 57 58 58 58 58 58 58 59 59 59 59 60 60 60 60 60 61 61 61 61 61 62 62 62 62 62 63 63 63 63 64 64 64 65 65 65 66 66 66 66 66 66 67 67 68 68 68 68 68 69 69 69 69 70 70 70 70 70 71 71 72 73 74 74 74 74 74 74 74 74 75 75 75 75 75 75 75 75 76 76 76 77 77 78 79 79 80 80 80 80 80 80 81 81 81 81 82 82 82 82 83 83 83 84 84 84 84 84 84 84 85 85 85 85 85 86 86 87 87 87 87 87 88 88 88 88 88 88 89 89 89 90 90 91 91 91 91 92 92 92 92 92 92 92 93 93 93 93 94 94 94 94 94 95 96 96 96 97 97 98 98 98 98 98 98 98 100 100 100 25 14 78 24 84 54 10 29 41 13 89 55 81 66 58 29 54 88 87 65 62 58 60 9 78 64 95 50 36 53 10 17 32 19 8 90 43 100 42 68 12 31 87 84 60 32 29 76 65 24 80 49 7 22 31 63 17 24 6 98 23 9 89 36 38 65 48 61 15 4 94 51 10 16 12 49 18 24 95 78 85 87 54 54 87 87 62 77 9 77 84 54 38 59 73 55 99 69 34 44 \n",
      "Sorted array is: \n",
      "1 2 2 2 3 3 3 3 3 3 3 4 4 4 4 4 4 4 5 5 5 5 5 5 5 6 6 6 6 6 6 6 7 7 7 7 8 8 8 8 8 8 8 8 8 9 9 9 9 10 10 10 10 10 11 11 11 11 11 12 12 12 12 12 12 12 12 12 12 13 13 13 13 13 13 13 13 13 13 14 14 14 14 14 14 14 15 15 15 15 15 16 16 16 16 16 16 16 16 17 17 17 18 18 18 18 18 18 18 19 19 19 19 19 19 19 19 19 19 20 20 20 20 21 21 22 22 22 22 22 22 22 23 23 23 23 23 23 24 24 24 24 24 25 25 26 26 27 27 27 27 27 28 28 28 28 29 29 29 29 29 29 29 29 30 30 30 30 30 30 31 31 31 31 31 32 32 32 32 32 33 33 34 34 34 34 35 36 36 36 37 37 37 37 37 37 37 38 38 38 38 38 38 39 39 39 39 40 40 40 41 41 41 41 41 41 41 42 42 42 42 42 42 42 42 43 43 43 43 43 43 43 43 44 44 44 44 45 45 45 46 46 46 46 48 48 48 49 49 49 49 49 50 50 50 50 51 51 51 52 52 52 53 53 53 53 54 54 54 54 54 54 54 54 54 54 54 55 55 55 55 55 56 56 56 56 56 56 56 56 57 57 57 57 58 58 58 58 58 58 58 58 59 59 59 59 59 60 60 60 60 60 60 60 61 61 61 61 61 61 62 62 62 62 62 62 62 63 63 63 63 63 64 64 64 64 65 65 65 65 65 65 66 66 66 66 66 66 66 67 67 68 68 68 68 68 68 69 69 69 69 69 70 70 70 70 70 71 71 72 73 73 74 74 74 74 74 74 74 74 75 75 75 75 75 75 75 75 76 76 76 76 77 77 77 77 78 78 78 78 79 79 80 80 80 80 80 80 80 81 81 81 81 81 82 82 82 82 83 83 83 84 84 84 84 84 84 84 84 84 84 85 85 85 85 85 85 86 86 87 87 87 87 87 87 87 87 87 87 88 88 88 88 88 88 88 89 89 89 89 89 90 90 90 91 91 91 91 92 92 92 92 92 92 92 93 93 93 93 94 94 94 94 94 94 95 95 95 96 96 96 97 97 98 98 98 98 98 98 98 98 99 100 100 100 100 \n",
      "22801\n"
     ]
    }
   ],
   "source": [
    "import random #This allows us to use the random function to fill our array\n",
    "#Using a global verable knowing thats wrong normally \n",
    "count = 0 #This is a global varable and would not normally be used rather count would be passsed in however a CA said to just do this as it would be easier\n",
    "# impliment Mergsort This could was found of geeksforgeeks (https://www.geeksforgeeks.org/merge-sort/) at this address. CA's said we did not have to re invent the wheel just to comment and modify it so it worked to count the number of reverses.\n",
    "def mergeSort(arr): \n",
    "    if len(arr) >1: #This is need because if the array was empty we wouldnt need to do anything\n",
    "        mid = len(arr)//2 # this finds the middle point of the array so we can use it to devide up the array\n",
    "        L = arr[:mid] # this allows us to know our left hand side of the array\n",
    "        R = arr[mid:] # and our right hand side of the array\n",
    "  \n",
    "        mergeSort(L) # this takes the left split of the array are sorts the first half of the array \n",
    "        mergeSort(R) # this takes the right spril of the array and sorts the second half of the array \n",
    "  \n",
    "        i = j = k = 0 # this sets all needed varrables to zero after declaring them\n",
    "        global count # This allows us to use our global variable. This was addded to the template of mergsort\n",
    "          \n",
    "         \n",
    "        while i < len(L) and j < len(R): #This while loop copys the elments into the temp arrays L[] and R[] \n",
    "            if L[i] < R[j]: # this checks to see if a Swap is need  \n",
    "                arr[k] = L[i] #K is the index of the new temp array\n",
    "                i+=1\n",
    "            else: #If the right is larger put right element in front and increment count to the number of elements left in the left array \n",
    "                arr[k] = R[j] \n",
    "                j+=1\n",
    "                count = count+len(L)-i #its for everything that is left in the left array thus minus i.\n",
    "            k+=1\n",
    "          \n",
    "        # check to see if any elements remain in L[] or R[] if they do fill arr with remaining values\n",
    "        while i < len(L): \n",
    "            arr[k] = L[i] \n",
    "            i+=1\n",
    "            k+=1\n",
    "          \n",
    "        while j < len(R): \n",
    "            arr[k] = R[j] \n",
    "            j+=1\n",
    "            k+=1\n",
    "  \n",
    "# Code to print the list \n",
    "def printList(arr): \n",
    "    for i in range(len(arr)):         \n",
    "        print(arr[i],end=\" \") \n",
    "    print() \n",
    "  \n",
    "# driver code to test the above code \n",
    "if __name__ == '__main__': \n",
    "    for i in range(0,100): \n",
    "        arr.append(random.randint(1,100))  \n",
    "    print (\"Given array is\", end=\"\\n\")  \n",
    "    printList(arr) \n",
    "    mergeSort(arr) \n",
    "    print(\"Sorted array is: \", end=\"\\n\") \n",
    "    printList(arr) \n",
    "    print(count) # This just allows us to see what our count is"
   ]
  },
  {
   "cell_type": "code",
   "execution_count": null,
   "metadata": {},
   "outputs": [],
   "source": []
  }
 ],
 "metadata": {
  "kernelspec": {
   "display_name": "Python 3",
   "language": "python",
   "name": "python3"
  },
  "language_info": {
   "codemirror_mode": {
    "name": "ipython",
    "version": 3
   },
   "file_extension": ".py",
   "mimetype": "text/x-python",
   "name": "python",
   "nbconvert_exporter": "python",
   "pygments_lexer": "ipython3",
   "version": "3.7.3"
  }
 },
 "nbformat": 4,
 "nbformat_minor": 4
}
